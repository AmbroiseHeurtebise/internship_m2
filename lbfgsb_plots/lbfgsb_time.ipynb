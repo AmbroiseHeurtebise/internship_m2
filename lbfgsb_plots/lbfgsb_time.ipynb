{
 "cells": [
  {
   "cell_type": "code",
   "execution_count": 1,
   "metadata": {},
   "outputs": [],
   "source": [
    "import jax.numpy as jnp\n",
    "import jax\n",
    "\n",
    "from jax.config import config; config.update(\"jax_enable_x64\", True)\n",
    "\n",
    "import numpy as np\n",
    "from time import time"
   ]
  },
  {
   "cell_type": "code",
   "execution_count": 2,
   "metadata": {},
   "outputs": [
    {
     "name": "stderr",
     "output_type": "stream",
     "text": [
      "WARNING:jax._src.lib.xla_bridge:No GPU/TPU found, falling back to CPU. (Set TF_CPP_MIN_LOG_LEVEL=0 and rerun for more info.)\n"
     ]
    }
   ],
   "source": [
    "m, p, n = 5, 2, 600\n",
    "\n",
    "shared_delays=False\n",
    "rng = jax.random.PRNGKey(0)\n",
    "X_list = jax.random.normal(rng, (m, p, n))\n",
    "rng, _ = jax.random.split(rng)\n",
    "W_list = jax.random.normal(rng, (m * p ** 2,))\n",
    "noise = 1."
   ]
  },
  {
   "cell_type": "code",
   "execution_count": 3,
   "metadata": {},
   "outputs": [],
   "source": [
    "def _logcosh(X):\n",
    "    Y = jnp.abs(X)\n",
    "    return Y + jnp.log1p(jnp.exp(-2 * Y))\n",
    "\n",
    "\n",
    "def loss_function(W_list, X_list, noise):\n",
    "    m, p, n = X_list.shape\n",
    "    W_list = W_list[:m*p**2].reshape((m, p, p))\n",
    "    Y_list = jnp.array([jnp.dot(W, X) for W, X in zip(W_list, X_list)])\n",
    "    Y_avg = jnp.mean(Y_list, axis=0)\n",
    "    loss = jnp.mean(_logcosh(Y_avg)) * p\n",
    "    for W, Y in zip(W_list, Y_list):\n",
    "        loss -= jnp.linalg.slogdet(W)[1]\n",
    "        loss += 1 / (2 * noise) * jnp.mean((Y - Y_avg) ** 2) * p\n",
    "    return loss"
   ]
  },
  {
   "cell_type": "code",
   "execution_count": 4,
   "metadata": {},
   "outputs": [
    {
     "data": {
      "text/plain": [
       "DeviceArray(11.76744027, dtype=float64)"
      ]
     },
     "execution_count": 4,
     "metadata": {},
     "output_type": "execute_result"
    }
   ],
   "source": [
    "loss_function(W_list, X_list, noise)"
   ]
  },
  {
   "cell_type": "code",
   "execution_count": 5,
   "metadata": {},
   "outputs": [],
   "source": [
    "val_and_grad = jax.jit(jax.value_and_grad(loss_function))"
   ]
  },
  {
   "cell_type": "code",
   "execution_count": 6,
   "metadata": {},
   "outputs": [
    {
     "name": "stdout",
     "output_type": "stream",
     "text": [
      "time : 2.534545421600342\n"
     ]
    }
   ],
   "source": [
    "# First call: slow because of compil\n",
    "t0 = time()\n",
    "val_and_grad(W_list, X_list, noise)\n",
    "print(f\"time : {time() - t0}\")"
   ]
  },
  {
   "cell_type": "code",
   "execution_count": 7,
   "metadata": {},
   "outputs": [
    {
     "name": "stdout",
     "output_type": "stream",
     "text": [
      "time : 0.001519918441772461\n"
     ]
    }
   ],
   "source": [
    "# Secon call: fast thanks to jit\n",
    "t0 = time()\n",
    "val_and_grad(W_list, X_list, noise)\n",
    "print(f\"time : {time() - t0}\")"
   ]
  },
  {
   "cell_type": "code",
   "execution_count": 8,
   "metadata": {},
   "outputs": [],
   "source": [
    "def wrapper(W_list, X_list, noise):\n",
    "    loss, grad = val_and_grad(W_list,  X_list, noise)\n",
    "    return loss, np.array(grad)"
   ]
  },
  {
   "cell_type": "code",
   "execution_count": 9,
   "metadata": {},
   "outputs": [],
   "source": [
    "from scipy.optimize import fmin_l_bfgs_b"
   ]
  },
  {
   "cell_type": "code",
   "execution_count": 10,
   "metadata": {},
   "outputs": [
    {
     "name": "stdout",
     "output_type": "stream",
     "text": [
      "25.3 ms ± 587 µs per loop (mean ± std. dev. of 7 runs, 10 loops each)\n"
     ]
    }
   ],
   "source": [
    "%timeit fmin_l_bfgs_b(wrapper, W_list, args=(X_list, noise))"
   ]
  },
  {
   "cell_type": "markdown",
   "metadata": {},
   "source": [
    "### Add delays"
   ]
  },
  {
   "cell_type": "code",
   "execution_count": 11,
   "metadata": {},
   "outputs": [],
   "source": [
    "rng, _ = jax.random.split(rng)\n",
    "max_delay = 20\n",
    "delays = jax.random.uniform(key=rng, shape=(m, p), minval=-max_delay, maxval=max_delay)"
   ]
  },
  {
   "cell_type": "code",
   "execution_count": 12,
   "metadata": {},
   "outputs": [],
   "source": [
    "def apply_continuous_delays(\n",
    "    S_list,\n",
    "    tau_list,\n",
    "    shared_delays=False,\n",
    "):\n",
    "    m, p, n = S_list.shape\n",
    "    Y_list = jnp.zeros((m, p, n))\n",
    "    for i in range(m):\n",
    "        for j in range(p):\n",
    "            fy = jnp.fft.fft(S_list[i, j])\n",
    "            freqs = jnp.fft.fftfreq(fy.size)\n",
    "            if shared_delays:\n",
    "                delay = tau_list[i]\n",
    "            else:\n",
    "                delay = tau_list[i, j]\n",
    "            fy *= jnp.exp(-2 * jnp.pi * 1j * delay * freqs)\n",
    "            y = jnp.fft.ifft(fy)\n",
    "            Y_list = Y_list.at[i, j].set(jnp.real(y))  # XXX\n",
    "    return Y_list\n",
    "\n",
    "S_list = jnp.array([jnp.dot(W, X) for W, X in zip(W_list, X_list)])\n",
    "Y_list = apply_continuous_delays(S_list, -delays)"
   ]
  },
  {
   "cell_type": "code",
   "execution_count": 13,
   "metadata": {},
   "outputs": [],
   "source": [
    "def loss_function_delays(W_delays, X_list, noise):\n",
    "    m, p, n = X_list.shape\n",
    "    W_list = W_delays[:m*p**2].reshape((m, p, p))\n",
    "    delays = W_delays[m*p**2:].reshape((m, p))\n",
    "    S_list = jnp.array([jnp.dot(W, X) for W, X in zip(W_list, X_list)])\n",
    "    Y_list = apply_continuous_delays(S_list, -delays)\n",
    "    Y_avg = jnp.mean(Y_list, axis=0)\n",
    "    loss = jnp.mean(_logcosh(Y_avg)) * p\n",
    "    for W, Y in zip(W_list, Y_list):\n",
    "        loss -= jnp.linalg.slogdet(W)[1]\n",
    "        loss += 1 / (2 * noise) * jnp.mean((Y - Y_avg) ** 2) * p\n",
    "    return loss"
   ]
  },
  {
   "cell_type": "code",
   "execution_count": 14,
   "metadata": {},
   "outputs": [
    {
     "data": {
      "text/plain": [
       "DeviceArray(11.84313674, dtype=float64)"
      ]
     },
     "execution_count": 14,
     "metadata": {},
     "output_type": "execute_result"
    }
   ],
   "source": [
    "W_delays = jnp.concatenate([jnp.ravel(W_list), jnp.ravel(delays)])\n",
    "loss_function_delays(W_delays, X_list, noise)"
   ]
  },
  {
   "cell_type": "code",
   "execution_count": 15,
   "metadata": {},
   "outputs": [],
   "source": [
    "val_and_grad_delays = jax.jit(jax.value_and_grad(loss_function_delays))"
   ]
  },
  {
   "cell_type": "code",
   "execution_count": 16,
   "metadata": {},
   "outputs": [
    {
     "name": "stdout",
     "output_type": "stream",
     "text": [
      "time : 4.427131175994873\n"
     ]
    }
   ],
   "source": [
    "# First call: slow because of compil\n",
    "t0 = time()\n",
    "val_and_grad_delays(W_delays, X_list, noise)\n",
    "print(f\"time : {time() - t0}\")"
   ]
  },
  {
   "cell_type": "code",
   "execution_count": 17,
   "metadata": {},
   "outputs": [
    {
     "name": "stdout",
     "output_type": "stream",
     "text": [
      "time : 0.0012564659118652344\n"
     ]
    }
   ],
   "source": [
    "# Secon call: fast thanks to jit\n",
    "t0 = time()\n",
    "val_and_grad(W_list, X_list, noise)\n",
    "print(f\"time : {time() - t0}\")"
   ]
  },
  {
   "cell_type": "code",
   "execution_count": 18,
   "metadata": {},
   "outputs": [],
   "source": [
    "def wrapper_delays(W_delays, X_list, noise):\n",
    "    loss, grad = val_and_grad_delays(W_delays, X_list, noise)\n",
    "    return loss, np.array(grad)"
   ]
  },
  {
   "cell_type": "code",
   "execution_count": 19,
   "metadata": {},
   "outputs": [
    {
     "name": "stdout",
     "output_type": "stream",
     "text": [
      "175 ms ± 2.61 ms per loop (mean ± std. dev. of 7 runs, 1 loop each)\n"
     ]
    }
   ],
   "source": [
    "%timeit fmin_l_bfgs_b(wrapper_delays, W_delays, args=(X_list, noise))"
   ]
  },
  {
   "cell_type": "code",
   "execution_count": 20,
   "metadata": {},
   "outputs": [],
   "source": [
    "from multiviewica_delay import multiviewica_delay"
   ]
  },
  {
   "cell_type": "code",
   "execution_count": 26,
   "metadata": {},
   "outputs": [
    {
     "name": "stdout",
     "output_type": "stream",
     "text": [
      "158 ms ± 34.2 ms per loop (mean ± std. dev. of 7 runs, 1 loop each)\n"
     ]
    }
   ],
   "source": [
    "%timeit multiviewica_delay(X=X_list, noise=noise, init=np.array(W_list).reshape(m, p, p), max_delay=max_delay)"
   ]
  },
  {
   "cell_type": "code",
   "execution_count": null,
   "metadata": {},
   "outputs": [],
   "source": []
  }
 ],
 "metadata": {
  "interpreter": {
   "hash": "080e49a76338c42d26817e21b2264b23ac11511cda1b918c9b65cb8eec2cf5e0"
  },
  "kernelspec": {
   "display_name": "Python 3.9.7 ('base')",
   "language": "python",
   "name": "python3"
  },
  "language_info": {
   "codemirror_mode": {
    "name": "ipython",
    "version": 3
   },
   "file_extension": ".py",
   "mimetype": "text/x-python",
   "name": "python",
   "nbconvert_exporter": "python",
   "pygments_lexer": "ipython3",
   "version": "3.9.7"
  },
  "orig_nbformat": 4
 },
 "nbformat": 4,
 "nbformat_minor": 2
}
