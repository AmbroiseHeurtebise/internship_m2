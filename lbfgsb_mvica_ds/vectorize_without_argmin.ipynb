{
 "cells": [
  {
   "cell_type": "code",
   "execution_count": 1,
   "metadata": {},
   "outputs": [],
   "source": [
    "%load_ext autoreload\n",
    "%autoreload 2"
   ]
  },
  {
   "cell_type": "code",
   "execution_count": 2,
   "metadata": {},
   "outputs": [],
   "source": [
    "import numpy as np\n",
    "import jax\n",
    "import jax.numpy as jnp\n",
    "from time import time\n",
    "import matplotlib.pyplot as plt\n",
    "from apply_dilations_shifts import apply_both_delays_3d_cyclic, apply_dilations_shifts_3d_jax\n",
    "from lbfgsb_loss_and_grad import loss"
   ]
  },
  {
   "cell_type": "markdown",
   "metadata": {},
   "source": [
    "# apply_delay function without for loops or np.argmin"
   ]
  },
  {
   "cell_type": "code",
   "execution_count": 3,
   "metadata": {},
   "outputs": [],
   "source": [
    "def apply_dilations_shifts_3d_no_argmin(\n",
    "    S, dilations, shifts, max_dilation=1., max_shift=0., shift_before_dilation=True, n_concat=1,\n",
    "):\n",
    "    m, p, n_total = S.shape\n",
    "    n = n_total // n_concat\n",
    "    S_4d = jnp.moveaxis(jnp.array(jnp.split(S, n_concat, axis=-1)), source=0, destination=2)\n",
    "    max_delay_time = (1 + max_shift) * max_dilation - 1\n",
    "    max_delay_samples = np.ceil(max_delay_time * n).astype(\"int\")\n",
    "    t_extended = jnp.arange(n+2*max_delay_samples) - max_delay_samples\n",
    "    t = jnp.arange(n)\n",
    "    T = jnp.array([t] * m * p * n_concat).reshape(S_4d.shape)\n",
    "    dilations_newaxis = dilations[:, :, jnp.newaxis, jnp.newaxis]\n",
    "    shifts_newaxis = shifts[:, :, jnp.newaxis, jnp.newaxis] * n\n",
    "    if shift_before_dilation:\n",
    "        T_ds = (T - shifts_newaxis) * dilations_newaxis\n",
    "    else:\n",
    "        T_ds = T * dilations_newaxis - shifts_newaxis\n",
    "    # ind = jnp.rint(T_ds).astype(int) + max_delay_samples\n",
    "    # ind = jnp.clip(ind, 1, n+2*max_delay_samples-2)\n",
    "    # T_ref = t_extended[ind]\n",
    "    T_ref = jnp.clip(jnp.rint(T_ds).astype(int), -max_delay_samples+1, n+max_delay_samples-2)\n",
    "    ind = jnp.clip(T_ref + max_delay_samples, 1, n+2*max_delay_samples-2)\n",
    "    T_ds_clipped = jnp.clip(T_ds, -max_delay_samples+1, n+max_delay_samples-2)\n",
    "    # jnp.copysign allows to avoid the case sign==0\n",
    "    signs = jnp.copysign(1, jnp.sign(T_ds_clipped - T_ref)).astype(int)\n",
    "    S_extended = jnp.concatenate([S_4d[:, :, :, n-max_delay_samples:], S_4d, S_4d[:, :, :, :max_delay_samples]], axis=-1)\n",
    "    S_extended_ind = jnp.take_along_axis(S_extended, ind, axis=-1)\n",
    "    t_extended_ind = t_extended[ind]\n",
    "    slopes = (jnp.take_along_axis(S_extended, ind+signs, axis=-1) - S_extended_ind) / (\n",
    "        t_extended[ind + signs] - t_extended_ind)\n",
    "    intercepts = S_extended_ind - slopes * t_extended_ind\n",
    "    S_ds = slopes * T_ds + intercepts\n",
    "    S_ds = S_ds.reshape((m, p, -1))\n",
    "    return S_ds"
   ]
  },
  {
   "cell_type": "markdown",
   "metadata": {},
   "source": [
    "We use 3 different apply_delay functions:\n",
    "- apply_both_delays_3d_cyclic which uses for loops\n",
    "- apply_dilations_shifts_3d_jax which vectorizes the for loops but needs to call np.argmin\n",
    "- apply_dilations_shifts_3d_no_argmin which vectorizes the for loops but doesn't need to call np.argmin"
   ]
  },
  {
   "cell_type": "markdown",
   "metadata": {},
   "source": [
    "# parameters"
   ]
  },
  {
   "cell_type": "code",
   "execution_count": 4,
   "metadata": {},
   "outputs": [],
   "source": [
    "m = 10\n",
    "p = 5\n",
    "n_concat = 3\n",
    "n = 600\n",
    "max_dilation = 1.15\n",
    "max_shift = 0.05\n",
    "shift_before_dilation = False\n",
    "random_state = 12\n",
    "rng = np.random.RandomState(random_state)\n",
    "functions = [apply_both_delays_3d_cyclic, apply_dilations_shifts_3d_jax, apply_dilations_shifts_3d_no_argmin]\n",
    "messages = [\"For loops : \", \"Vectorize : \", \"Vectorize without np.argmin : \"]"
   ]
  },
  {
   "cell_type": "markdown",
   "metadata": {},
   "source": [
    "# apply_delay time without jit"
   ]
  },
  {
   "cell_type": "code",
   "execution_count": 5,
   "metadata": {},
   "outputs": [],
   "source": [
    "def run_expe(\n",
    "    function, m=m, p=p, n_concat=n_concat, n=n, max_dilation=max_dilation, max_shift=max_shift,\n",
    "    shift_before_dilation=shift_before_dilation, rng=rng, message=None,\n",
    "):\n",
    "    S_list_3d = rng.randn(m, p, n_concat * n)\n",
    "    dilations = rng.uniform(low=1/max_dilation, high=max_dilation, size=(m, p))\n",
    "    shifts = rng.uniform(low=-max_shift, high=max_shift, size=(m, p))\n",
    "    if message is not None:\n",
    "        print(message)\n",
    "    start = time()\n",
    "    _ = function(S_list_3d, dilations, shifts, max_dilation, max_shift, shift_before_dilation, n_concat)\n",
    "    return time() - start"
   ]
  },
  {
   "cell_type": "code",
   "execution_count": 6,
   "metadata": {},
   "outputs": [
    {
     "name": "stdout",
     "output_type": "stream",
     "text": [
      "For loops : \n",
      "1.2799110412597656\n",
      "Vectorize : \n",
      "0.6003360748291016\n",
      "Vectorize without np.argmin : \n",
      "1.024425983428955\n"
     ]
    }
   ],
   "source": [
    "# first call to functions\n",
    "for i, function in enumerate(functions):\n",
    "    print(run_expe(function, message=messages[i]))"
   ]
  },
  {
   "cell_type": "code",
   "execution_count": 7,
   "metadata": {},
   "outputs": [
    {
     "name": "stdout",
     "output_type": "stream",
     "text": [
      "For loops : \n",
      "0.3252229690551758\n",
      "Vectorize : \n",
      "0.03591418266296387\n",
      "Vectorize without np.argmin : \n",
      "0.03495621681213379\n"
     ]
    }
   ],
   "source": [
    "# second call to functions (faster)\n",
    "for i, function in enumerate(functions):\n",
    "    print(run_expe(function, message=messages[i]))"
   ]
  },
  {
   "cell_type": "markdown",
   "metadata": {},
   "source": [
    "# jit"
   ]
  },
  {
   "cell_type": "code",
   "execution_count": 8,
   "metadata": {},
   "outputs": [
    {
     "name": "stdout",
     "output_type": "stream",
     "text": [
      "Jit...\n",
      "18.057190895080566\n"
     ]
    }
   ],
   "source": [
    "apply_both_delays_3d_cyclic_jit = jax.jit(apply_both_delays_3d_cyclic, static_argnums=(3, 4, 5, 6))\n",
    "print(run_expe(apply_both_delays_3d_cyclic_jit, message=\"Jit...\"))"
   ]
  },
  {
   "cell_type": "code",
   "execution_count": 9,
   "metadata": {},
   "outputs": [
    {
     "name": "stdout",
     "output_type": "stream",
     "text": [
      "Jit...\n",
      "0.2545020580291748\n"
     ]
    }
   ],
   "source": [
    "apply_dilations_shifts_3d_jax_jit = jax.jit(apply_dilations_shifts_3d_jax, static_argnums=(3, 4, 5, 6))\n",
    "print(run_expe(apply_dilations_shifts_3d_jax_jit, message=\"Jit...\"))"
   ]
  },
  {
   "cell_type": "code",
   "execution_count": 10,
   "metadata": {},
   "outputs": [
    {
     "name": "stdout",
     "output_type": "stream",
     "text": [
      "Jit...\n",
      "0.23122787475585938\n"
     ]
    }
   ],
   "source": [
    "apply_dilations_shifts_3d_no_argmin_jit = jax.jit(apply_dilations_shifts_3d_no_argmin, static_argnums=(3, 4, 5, 6))\n",
    "print(run_expe(apply_dilations_shifts_3d_no_argmin_jit, message=\"Jit...\"))"
   ]
  },
  {
   "cell_type": "markdown",
   "metadata": {},
   "source": [
    "# apply_delay time after jit"
   ]
  },
  {
   "cell_type": "code",
   "execution_count": 11,
   "metadata": {},
   "outputs": [
    {
     "name": "stdout",
     "output_type": "stream",
     "text": [
      "For loops : \n",
      "0.006395101547241211\n",
      "Vectorize : \n",
      "0.0033071041107177734\n",
      "Vectorize without np.argmin : \n",
      "0.002466917037963867\n"
     ]
    }
   ],
   "source": [
    "functions_jit = [apply_both_delays_3d_cyclic_jit, apply_dilations_shifts_3d_jax_jit, apply_dilations_shifts_3d_no_argmin_jit]\n",
    "for i, function in enumerate(functions_jit):\n",
    "    print(run_expe(function, message=messages[i]))"
   ]
  },
  {
   "cell_type": "markdown",
   "metadata": {},
   "source": [
    "# time of the loss function"
   ]
  },
  {
   "cell_type": "code",
   "execution_count": 12,
   "metadata": {},
   "outputs": [],
   "source": [
    "dilation_scale = rng.uniform(low=30, high=40, size=(m, p))\n",
    "shift_scale = 60.\n",
    "W_init = jnp.array(rng.randn(m, p, p))\n",
    "A_init = jnp.ones((m, p)) * dilation_scale\n",
    "B_init = jnp.zeros((m, p))\n",
    "W_A_B_init = jnp.concatenate([jnp.ravel(W_init), jnp.ravel(A_init), jnp.ravel(B_init)])\n",
    "X_list = rng.randn(m, p, n_concat * n)\n",
    "noise_model = 1\n",
    "number_of_filters_envelop = 1\n",
    "filter_length_envelop = 10\n",
    "number_of_filters_squarenorm_f = 0\n",
    "filter_length_squarenorm_f = 3\n",
    "use_envelop_term = True\n",
    "\n",
    "args = (\n",
    "    W_A_B_init,\n",
    "    X_list,\n",
    "    dilation_scale,\n",
    "    shift_scale,\n",
    "    max_shift,\n",
    "    max_dilation,\n",
    "    noise_model,\n",
    "    number_of_filters_envelop,\n",
    "    filter_length_envelop,\n",
    "    number_of_filters_squarenorm_f,\n",
    "    filter_length_squarenorm_f,\n",
    "    use_envelop_term,\n",
    "    n_concat,\n",
    ")"
   ]
  },
  {
   "cell_type": "code",
   "execution_count": 13,
   "metadata": {},
   "outputs": [],
   "source": [
    "def loss_1(*args):\n",
    "    return loss(apply_delays_function=apply_both_delays_3d_cyclic, *args)\n",
    "\n",
    "def loss_2(*args):\n",
    "    return loss(apply_delays_function=apply_dilations_shifts_3d_jax, *args)\n",
    "\n",
    "def loss_3(*args):\n",
    "    return loss(apply_delays_function=apply_dilations_shifts_3d_no_argmin, *args)"
   ]
  },
  {
   "cell_type": "code",
   "execution_count": 14,
   "metadata": {},
   "outputs": [
    {
     "name": "stdout",
     "output_type": "stream",
     "text": [
      "60.265755\n",
      "60.265755\n",
      "95.05128\n"
     ]
    }
   ],
   "source": [
    "print(loss_1(*args))\n",
    "print(loss_2(*args))\n",
    "print(loss_3(*args))"
   ]
  },
  {
   "cell_type": "markdown",
   "metadata": {},
   "source": [
    "The loss is different for apply_dilations_shifts_3d_no_argmin. Indeed, when we plot sources delayed by apply_dilations_shifts_3d_jax (or apply_both_delays_3d_cyclic) and apply_dilations_shifts_3d_no_argmin, we can see very little differences. But this is not important. "
   ]
  },
  {
   "cell_type": "code",
   "execution_count": 15,
   "metadata": {},
   "outputs": [],
   "source": [
    "val_and_grad_1 = jax.jit(jax.value_and_grad(loss_1), static_argnums=tuple(np.arange(3, 13)))\n",
    "val_and_grad_2 = jax.jit(jax.value_and_grad(loss_2), static_argnums=tuple(np.arange(3, 13)))\n",
    "val_and_grad_3 = jax.jit(jax.value_and_grad(loss_3), static_argnums=tuple(np.arange(3, 13)))"
   ]
  },
  {
   "cell_type": "code",
   "execution_count": 16,
   "metadata": {},
   "outputs": [
    {
     "name": "stdout",
     "output_type": "stream",
     "text": [
      "Jit...\n"
     ]
    }
   ],
   "source": [
    "print(\"Jit...\")\n",
    "_ = val_and_grad_1(*args)"
   ]
  },
  {
   "cell_type": "code",
   "execution_count": 17,
   "metadata": {},
   "outputs": [
    {
     "name": "stdout",
     "output_type": "stream",
     "text": [
      "Jit...\n"
     ]
    }
   ],
   "source": [
    "print(\"Jit...\")\n",
    "_ = val_and_grad_2(*args)"
   ]
  },
  {
   "cell_type": "code",
   "execution_count": 18,
   "metadata": {},
   "outputs": [
    {
     "name": "stdout",
     "output_type": "stream",
     "text": [
      "Jit...\n"
     ]
    }
   ],
   "source": [
    "print(\"Jit...\")\n",
    "_ = val_and_grad_3(*args)"
   ]
  },
  {
   "cell_type": "code",
   "execution_count": 39,
   "metadata": {},
   "outputs": [
    {
     "name": "stdout",
     "output_type": "stream",
     "text": [
      "For loops : \n",
      "0.02010512351989746\n",
      "Vectorize : \n",
      "0.07315492630004883\n",
      "Vectorize without np.argmin : \n",
      "0.023099899291992188\n"
     ]
    }
   ],
   "source": [
    "print(\"For loops : \")\n",
    "start = time()\n",
    "_ = val_and_grad_1(*args)\n",
    "print(time() - start)\n",
    "\n",
    "print(\"Vectorize : \")\n",
    "start = time()\n",
    "_ = val_and_grad_2(*args)\n",
    "print(time() - start)\n",
    "\n",
    "print(\"Vectorize without np.argmin : \")\n",
    "start = time()\n",
    "_ = val_and_grad_3(*args)\n",
    "print(time() - start)"
   ]
  },
  {
   "cell_type": "code",
   "execution_count": 40,
   "metadata": {},
   "outputs": [],
   "source": [
    "n_it = 100\n",
    "times_1 = []\n",
    "times_2 = []\n",
    "times_3 = []\n",
    "for i in range(n_it):\n",
    "    start = time()\n",
    "    _ = val_and_grad_1(*args)\n",
    "    times_1.append(time() - start)\n",
    "    \n",
    "    start = time()\n",
    "    _ = val_and_grad_2(*args)\n",
    "    times_2.append(time() - start)\n",
    "    \n",
    "    start = time()\n",
    "    _ = val_and_grad_3(*args)\n",
    "    times_3.append(time() - start)"
   ]
  },
  {
   "cell_type": "code",
   "execution_count": 41,
   "metadata": {},
   "outputs": [
    {
     "name": "stdout",
     "output_type": "stream",
     "text": [
      "Time for loops : 0.018464410305023195\n",
      "Time vectorize : 0.07389827489852906\n",
      "Time vectorize without np.argmin : 0.024706676006317138\n"
     ]
    }
   ],
   "source": [
    "print(f\"Time for loops : {np.mean(times_1)}\")\n",
    "print(f\"Time vectorize : {np.mean(times_2)}\")\n",
    "print(f\"Time vectorize without np.argmin : {np.mean(times_3)}\")"
   ]
  },
  {
   "cell_type": "code",
   "execution_count": null,
   "metadata": {},
   "outputs": [],
   "source": []
  }
 ],
 "metadata": {
  "interpreter": {
   "hash": "f3e1f0c92aeed84689cfea023dd5d31b12e5f0b01cf0ee4a77d80d8274095e67"
  },
  "kernelspec": {
   "display_name": "Python 3.9.7 ('base')",
   "language": "python",
   "name": "python3"
  },
  "language_info": {
   "codemirror_mode": {
    "name": "ipython",
    "version": 3
   },
   "file_extension": ".py",
   "mimetype": "text/x-python",
   "name": "python",
   "nbconvert_exporter": "python",
   "pygments_lexer": "ipython3",
   "version": "3.9.7"
  },
  "orig_nbformat": 4
 },
 "nbformat": 4,
 "nbformat_minor": 2
}
