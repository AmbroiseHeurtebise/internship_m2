{
 "cells": [
  {
   "cell_type": "code",
   "execution_count": 1,
   "metadata": {},
   "outputs": [],
   "source": [
    "import numpy as np\n",
    "import jax\n",
    "import jax.numpy as jnp\n",
    "from time import time\n",
    "from apply_dilations_shifts import apply_both_delays_3d_cyclic, apply_dilations_shifts_3d_jax"
   ]
  },
  {
   "cell_type": "markdown",
   "metadata": {},
   "source": [
    "# apply_delay function without for loops or np.argmin"
   ]
  },
  {
   "cell_type": "code",
   "execution_count": 2,
   "metadata": {},
   "outputs": [],
   "source": [
    "def apply_dilations_shifts_3d_no_argmin(\n",
    "    S, dilations, shifts, max_dilation=1., max_shift=0., shift_before_dilation=True, n_concat=1,\n",
    "):\n",
    "    m, p, n_total = S.shape\n",
    "    n = n_total // n_concat\n",
    "    S_4d = jnp.moveaxis(jnp.array(jnp.split(S, n_concat, axis=-1)), source=0, destination=2)\n",
    "    max_delay_time = (1 + max_shift) * max_dilation - 1\n",
    "    max_delay_samples = np.ceil(max_delay_time * n).astype(\"int\")\n",
    "    t_extended = jnp.arange(n+2*max_delay_samples) - max_delay_samples\n",
    "    t = jnp.arange(n)\n",
    "    T = jnp.array([t] * m * p * n_concat).reshape(S_4d.shape)\n",
    "    dilations_newaxis = dilations[:, :, jnp.newaxis, jnp.newaxis]\n",
    "    shifts_newaxis = shifts[:, :, jnp.newaxis, jnp.newaxis] * n\n",
    "    if shift_before_dilation:\n",
    "        T_ds = (T - shifts_newaxis) * dilations_newaxis\n",
    "    else:\n",
    "        T_ds = T * dilations_newaxis - shifts_newaxis\n",
    "    # ind = jnp.rint(T_ds).astype(int) + max_delay_samples\n",
    "    # ind = jnp.clip(ind, 1, n+2*max_delay_samples-2)\n",
    "    # T_ref = t_extended[ind]\n",
    "    T_ref = jnp.clip(jnp.rint(T_ds).astype(int), -max_delay_samples+1, n+max_delay_samples-2)\n",
    "    ind = jnp.clip(T_ref + max_delay_samples, 1, n+2*max_delay_samples-2)\n",
    "    T_ds_clipped = jnp.clip(T_ds, -max_delay_samples+1, n+max_delay_samples-2)\n",
    "    signs = jnp.sign(T_ds_clipped - T_ref).astype(int)\n",
    "    S_extended = jnp.concatenate([S_4d[:, :, :, n-max_delay_samples:], S_4d, S_4d[:, :, :, :max_delay_samples]], axis=-1)\n",
    "    S_extended_ind = jnp.take_along_axis(S_extended, ind, axis=-1)\n",
    "    t_extended_ind = t_extended[ind]\n",
    "    slopes = (jnp.take_along_axis(S_extended, ind+signs, axis=-1) - S_extended_ind) / (\n",
    "        t_extended[ind + signs] - t_extended_ind)\n",
    "    intercepts = S_extended_ind - slopes * t_extended_ind\n",
    "    return slopes * T_ds + intercepts"
   ]
  },
  {
   "cell_type": "markdown",
   "metadata": {},
   "source": [
    "We use 3 different apply_delay functions:\n",
    "- apply_both_delays_3d_cyclic which uses for loops\n",
    "- apply_dilations_shifts_3d_jax which vectorizes the for loops but needs to call np.argmin\n",
    "- apply_dilations_shifts_3d_no_argmin which vectorizes the for loops but doesn't need to call np.argmin"
   ]
  },
  {
   "cell_type": "markdown",
   "metadata": {},
   "source": [
    "# parameters"
   ]
  },
  {
   "cell_type": "code",
   "execution_count": 3,
   "metadata": {},
   "outputs": [],
   "source": [
    "m = 10\n",
    "p = 5\n",
    "n_concat = 3\n",
    "n = 600\n",
    "max_dilation = 1.15\n",
    "max_shift = 0.05\n",
    "shift_before_dilation = False\n",
    "random_state = 12\n",
    "rng = np.random.RandomState(random_state)\n",
    "functions = [apply_both_delays_3d_cyclic, apply_dilations_shifts_3d_jax, apply_dilations_shifts_3d_no_argmin]\n",
    "messages = [\"For loops : \", \"Vectorize : \", \"Vectorize without np.argmin : \"]"
   ]
  },
  {
   "cell_type": "markdown",
   "metadata": {},
   "source": [
    "# apply_delay time without jit"
   ]
  },
  {
   "cell_type": "code",
   "execution_count": 4,
   "metadata": {},
   "outputs": [],
   "source": [
    "def run_expe(\n",
    "    function, m=m, p=p, n_concat=n_concat, n=n, max_dilation=max_dilation, max_shift=max_shift,\n",
    "    shift_before_dilation=shift_before_dilation, rng=rng, message=None,\n",
    "):\n",
    "    S_list_3d = rng.randn(m, p, n_concat * n)\n",
    "    dilations = rng.uniform(low=1/max_dilation, high=max_dilation, size=(m, p))\n",
    "    shifts = rng.uniform(low=-max_shift, high=max_shift, size=(m, p))\n",
    "    if message is not None:\n",
    "        print(message)\n",
    "    start = time()\n",
    "    _ = function(S_list_3d, dilations, shifts, max_dilation, max_shift, shift_before_dilation, n_concat)\n",
    "    return time() - start"
   ]
  },
  {
   "cell_type": "code",
   "execution_count": 5,
   "metadata": {},
   "outputs": [
    {
     "name": "stdout",
     "output_type": "stream",
     "text": [
      "For loops : \n",
      "0.8774631023406982\n",
      "Vectorize : \n",
      "0.6061549186706543\n",
      "Vectorize without np.argmin : \n",
      "1.1288089752197266\n"
     ]
    }
   ],
   "source": [
    "# first call to functions\n",
    "for i, function in enumerate(functions):\n",
    "    print(run_expe(function, message=messages[i]))"
   ]
  },
  {
   "cell_type": "code",
   "execution_count": 6,
   "metadata": {},
   "outputs": [
    {
     "name": "stdout",
     "output_type": "stream",
     "text": [
      "For loops : \n",
      "0.2554759979248047\n",
      "Vectorize : \n",
      "0.030426025390625\n",
      "Vectorize without np.argmin : \n",
      "0.03172707557678223\n"
     ]
    }
   ],
   "source": [
    "# second call to functions (faster)\n",
    "for i, function in enumerate(functions):\n",
    "    print(run_expe(function, message=messages[i]))"
   ]
  },
  {
   "cell_type": "markdown",
   "metadata": {},
   "source": [
    "# jit"
   ]
  },
  {
   "cell_type": "code",
   "execution_count": 7,
   "metadata": {},
   "outputs": [
    {
     "name": "stdout",
     "output_type": "stream",
     "text": [
      "Jit...\n",
      "19.75782084465027\n"
     ]
    }
   ],
   "source": [
    "apply_both_delays_3d_cyclic_jit = jax.jit(apply_both_delays_3d_cyclic, static_argnums=(3, 4, 5, 6))\n",
    "print(run_expe(apply_both_delays_3d_cyclic_jit, message=\"Jit...\"))"
   ]
  },
  {
   "cell_type": "code",
   "execution_count": 8,
   "metadata": {},
   "outputs": [
    {
     "name": "stdout",
     "output_type": "stream",
     "text": [
      "Jit...\n",
      "0.3099629878997803\n"
     ]
    }
   ],
   "source": [
    "apply_dilations_shifts_3d_jax_jit = jax.jit(apply_dilations_shifts_3d_jax, static_argnums=(3, 4, 5, 6))\n",
    "print(run_expe(apply_dilations_shifts_3d_jax_jit, message=\"Jit...\"))"
   ]
  },
  {
   "cell_type": "code",
   "execution_count": 9,
   "metadata": {},
   "outputs": [
    {
     "name": "stdout",
     "output_type": "stream",
     "text": [
      "Jit...\n",
      "0.2597219944000244\n"
     ]
    }
   ],
   "source": [
    "apply_dilations_shifts_3d_no_argmin_jit = jax.jit(apply_dilations_shifts_3d_no_argmin, static_argnums=(3, 4, 5, 6))\n",
    "print(run_expe(apply_dilations_shifts_3d_no_argmin_jit, message=\"Jit...\"))"
   ]
  },
  {
   "cell_type": "markdown",
   "metadata": {},
   "source": [
    "# apply_delay time after jit"
   ]
  },
  {
   "cell_type": "code",
   "execution_count": 10,
   "metadata": {},
   "outputs": [
    {
     "name": "stdout",
     "output_type": "stream",
     "text": [
      "For loops : \n",
      "0.007430076599121094\n",
      "Vectorize : \n",
      "0.004225015640258789\n",
      "Vectorize without np.argmin : \n",
      "0.003993034362792969\n"
     ]
    }
   ],
   "source": [
    "functions_jit = [apply_both_delays_3d_cyclic_jit, apply_dilations_shifts_3d_jax_jit, apply_dilations_shifts_3d_no_argmin_jit]\n",
    "for i, function in enumerate(functions_jit):\n",
    "    print(run_expe(function, message=messages[i]))"
   ]
  },
  {
   "cell_type": "code",
   "execution_count": null,
   "metadata": {},
   "outputs": [],
   "source": []
  }
 ],
 "metadata": {
  "interpreter": {
   "hash": "f3e1f0c92aeed84689cfea023dd5d31b12e5f0b01cf0ee4a77d80d8274095e67"
  },
  "kernelspec": {
   "display_name": "Python 3.9.7 ('base')",
   "language": "python",
   "name": "python3"
  },
  "language_info": {
   "codemirror_mode": {
    "name": "ipython",
    "version": 3
   },
   "file_extension": ".py",
   "mimetype": "text/x-python",
   "name": "python",
   "nbconvert_exporter": "python",
   "pygments_lexer": "ipython3",
   "version": "3.9.7"
  },
  "orig_nbformat": 4
 },
 "nbformat": 4,
 "nbformat_minor": 2
}
