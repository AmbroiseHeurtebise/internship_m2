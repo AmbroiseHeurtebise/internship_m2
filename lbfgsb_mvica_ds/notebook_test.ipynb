{
 "cells": [
  {
   "cell_type": "code",
   "execution_count": null,
   "metadata": {},
   "outputs": [],
   "source": [
    "%load_ext autoreload\n",
    "%autoreload 2"
   ]
  },
  {
   "cell_type": "code",
   "execution_count": null,
   "metadata": {},
   "outputs": [],
   "source": [
    "import numpy as np\n",
    "import matplotlib.pyplot as plt\n",
    "import scipy\n",
    "from scipy.optimize import fmin_l_bfgs_b\n",
    "from time import time\n",
    "from tqdm import tqdm\n",
    "import jax\n",
    "import jax.numpy as jnp\n",
    "\n",
    "from picard import amari_distance\n",
    "from multiviewica_delay import permica, multiviewica_delay\n",
    "\n",
    "from apply_dilations_shifts import apply_dilations_shifts, apply_dilations_shifts_3d_jax\n",
    "from generate_data import generate_data, generate_new_data\n",
    "from plot_functions import (\n",
    "    plot_sources_2d,\n",
    "    plot_sources_3d,\n",
    "    scatter_plot_shifts_or_dilations,\n",
    "    plot_params_across_iters,\n",
    "    plot_sources_3_steps,\n",
    "    plot_amari_across_iters,\n",
    ")\n",
    "from other_functions import compute_lambda, Memory_callback\n",
    "from permica_preprocessing import permica_preprocessing\n",
    "from lbfgsb_loss_and_grad import loss"
   ]
  },
  {
   "cell_type": "code",
   "execution_count": null,
   "metadata": {},
   "outputs": [],
   "source": [
    "jax.config.update('jax_enable_x64', True)"
   ]
  },
  {
   "cell_type": "markdown",
   "metadata": {},
   "source": [
    "# parameters"
   ]
  },
  {
   "cell_type": "code",
   "execution_count": null,
   "metadata": {},
   "outputs": [],
   "source": [
    "m = 5\n",
    "p = 3\n",
    "n = 600\n",
    "max_shift = 0.05\n",
    "max_dilation = 1.15\n",
    "bounds_factor = 1.2\n",
    "noise_data = 0.05  # 0.01 with previous generate_data function\n",
    "noise_model = 1  # 1 by default\n",
    "S1_S2_scale = 0.7  # 1 for first function, 0 for second function, 0.5 (for example) for a mixture of both\n",
    "n_bins = 10  # should divide n\n",
    "freq_level = 50\n",
    "number_of_filters_squarenorm_f = 0\n",
    "filter_length_squarenorm_f = 3\n",
    "use_envelop_term = True\n",
    "number_of_filters_envelop = 1\n",
    "filter_length_envelop = 10\n",
    "dilation_scale_per_source = True\n",
    "W_scale = 50\n",
    "random_state = 4\n",
    "n_concat = 8  # should divide n\n",
    "generation_function = 2\n",
    "A_B_init_permica = True"
   ]
  },
  {
   "cell_type": "code",
   "execution_count": null,
   "metadata": {},
   "outputs": [],
   "source": [
    "rng = np.random.RandomState(random_state)"
   ]
  },
  {
   "cell_type": "markdown",
   "metadata": {},
   "source": [
    "# generate data"
   ]
  },
  {
   "cell_type": "code",
   "execution_count": null,
   "metadata": {},
   "outputs": [],
   "source": [
    "if generation_function == 1:\n",
    "    X_list, A_list, dilations, shifts, S_list, S = generate_data(\n",
    "        m=m,\n",
    "        p=p,\n",
    "        n=n,\n",
    "        max_shift=max_shift,\n",
    "        max_dilation=max_dilation,\n",
    "        noise_data=noise_data,\n",
    "        n_bins=n_bins,\n",
    "        freq_level=freq_level,\n",
    "        S1_S2_scale=S1_S2_scale,\n",
    "        rng=rng,\n",
    "        n_concat=n_concat,\n",
    "    )\n",
    "elif generation_function == 2:\n",
    "    X_list, A_list, dilations, shifts, S_list, S = generate_new_data(\n",
    "        m=m,\n",
    "        p=p,\n",
    "        n=n,\n",
    "        max_shift=max_shift,\n",
    "        max_dilation=max_dilation,\n",
    "        noise_data=noise_data,\n",
    "        rng=rng,\n",
    "        n_concat=n_concat,\n",
    "    )\n",
    "else:\n",
    "    raise ValueError(\"generation_function should be 1 or 2.\")"
   ]
  },
  {
   "cell_type": "code",
   "execution_count": null,
   "metadata": {},
   "outputs": [],
   "source": [
    "# center time parameters\n",
    "dilations_c = dilations - np.mean(dilations, axis=0) + 1\n",
    "shifts_c = shifts - np.mean(shifts, axis=0)"
   ]
  },
  {
   "cell_type": "markdown",
   "metadata": {},
   "source": [
    "# plot true sources"
   ]
  },
  {
   "cell_type": "code",
   "execution_count": null,
   "metadata": {},
   "outputs": [],
   "source": [
    "plot_sources_2d(S)"
   ]
  },
  {
   "cell_type": "code",
   "execution_count": null,
   "metadata": {},
   "outputs": [],
   "source": [
    "plot_sources_3d(S_list);"
   ]
  },
  {
   "cell_type": "markdown",
   "metadata": {},
   "source": [
    "# shift scale and dilation scale"
   ]
  },
  {
   "cell_type": "code",
   "execution_count": null,
   "metadata": {},
   "outputs": [],
   "source": [
    "if max_shift > 0:\n",
    "    shift_scale = W_scale / max_shift  # scalar\n",
    "else:\n",
    "    shift_scale = 1.\n",
    "if max_dilation > 1:\n",
    "    dilation_scale = W_scale / (max_dilation - 1)  # scalar\n",
    "    if dilation_scale_per_source:\n",
    "        lambdas = np.array([[compute_lambda(s, n_concat=n_concat) for s in S] for S in S_list])\n",
    "        dilation_scale *= lambdas  # (m, p) matrix\n",
    "else:\n",
    "    dilation_scale = 1."
   ]
  },
  {
   "cell_type": "code",
   "execution_count": null,
   "metadata": {},
   "outputs": [],
   "source": [
    "max_dilation_2 = 1 + bounds_factor * (max_dilation - 1)\n",
    "max_shift_2 = bounds_factor * max_shift"
   ]
  },
  {
   "cell_type": "markdown",
   "metadata": {},
   "source": [
    "# initialize W, dilations and shifts"
   ]
  },
  {
   "cell_type": "code",
   "execution_count": null,
   "metadata": {},
   "outputs": [],
   "source": [
    "# initialize W_list and S_list with permica\n",
    "max_delay = (1 + max_shift) * max_dilation - 1\n",
    "max_delay_samples = np.ceil(max_delay * n).astype(\"int\")\n",
    "_, W_list_init, _, _ = permica(\n",
    "    X_list, max_iter=100, random_state=random_state, tol=1e-9,\n",
    "    optim_delays=True, max_delay=max_delay_samples)\n",
    "S_list_init = np.array([np.dot(W, X) for W, X in zip(W_list_init, X_list)])"
   ]
  },
  {
   "cell_type": "code",
   "execution_count": null,
   "metadata": {},
   "outputs": [],
   "source": [
    "# linear in m and p\n",
    "S_list_init, W_list_init, dilations_init, shifts_init = permica_preprocessing(\n",
    "    S_list_init, W_list_init, max_dilation, max_shift, n_concat, nb_points_grid=10, S_list_true=S_list)"
   ]
  },
  {
   "cell_type": "code",
   "execution_count": null,
   "metadata": {},
   "outputs": [],
   "source": [
    "axes = plot_sources_3d(S_list / np.linalg.norm(S_list, axis=-1, keepdims=True), show=False)\n",
    "plot_sources_3d(S_list_init / np.linalg.norm(S_list_init, axis=-1, keepdims=True),\n",
    "                dilations=dilations, shifts=shifts, axes=axes,\n",
    "                title=\"True sources (blue) and sources after permica (orange)\");"
   ]
  },
  {
   "cell_type": "code",
   "execution_count": null,
   "metadata": {},
   "outputs": [],
   "source": [
    "# Amari distance at init\n",
    "amari_init = np.mean([amari_distance(W, A) for W, A in zip(W_list_init, A_list)])\n",
    "print(f\"Amari distance after permica : {amari_init}\")"
   ]
  },
  {
   "cell_type": "code",
   "execution_count": null,
   "metadata": {},
   "outputs": [],
   "source": [
    "# center time parameters\n",
    "dilations_init_c = dilations_init - np.mean(dilations_init, axis=0) + 1\n",
    "shifts_init_c = shifts_init - np.mean(shifts_init, axis=0)\n",
    "\n",
    "# errors\n",
    "errors_dilations_init = np.mean((dilations_c - 1 / dilations_init_c) ** 2)\n",
    "errors_shifts_init = np.mean((shifts_c + shifts_init_c) ** 2)"
   ]
  },
  {
   "cell_type": "code",
   "execution_count": null,
   "metadata": {},
   "outputs": [],
   "source": [
    "# scatter plots of estimated shifts and dilations\n",
    "fig, axes = plt.subplots(1, 2, figsize=(9, 4))\n",
    "\n",
    "[ax.axis(\"equal\") for ax in axes]\n",
    "[ax.grid(True) for ax in axes]\n",
    "\n",
    "scatter_plot_shifts_or_dilations(\n",
    "    dilations_c,\n",
    "    1/dilations_init_c,\n",
    "    errors_dilations_init,\n",
    "    dilations_not_shifts=True,\n",
    "    legend=True,\n",
    "    ax=axes[0],\n",
    ")\n",
    "scatter_plot_shifts_or_dilations(\n",
    "    shifts_c,\n",
    "    -shifts_init_c,\n",
    "    errors_shifts_init,\n",
    "    dilations_not_shifts=False,\n",
    "    legend=False,\n",
    "    ax=axes[1],\n",
    ")\n",
    "fig.suptitle(\n",
    "    f\"Estimated dilations and shifts after permica (all parameters are centered and reduced)\",\n",
    "    y=1.03,\n",
    ")\n",
    "plt.show()"
   ]
  },
  {
   "cell_type": "code",
   "execution_count": null,
   "metadata": {},
   "outputs": [],
   "source": [
    "S_list_init_aligned = np.array([np.dot(W, X) for W, X in zip(W_list_init, X_list)])\n",
    "S_list_init_aligned = apply_dilations_shifts_3d_jax(\n",
    "    S_list_init_aligned, dilations=dilations_init, shifts=shifts_init, max_shift=max_shift,\n",
    "    max_dilation=max_dilation, shift_before_dilation=False, n_concat=n_concat)"
   ]
  },
  {
   "cell_type": "code",
   "execution_count": null,
   "metadata": {},
   "outputs": [],
   "source": [
    "axes = plot_sources_3d(\n",
    "    S_list_init / np.linalg.norm(S_list_init, axis=-1, keepdims=True),\n",
    "    dilations=dilations, shifts=shifts, show=False)\n",
    "plot_sources_3d(S_list_init_aligned / np.linalg.norm(S_list_init_aligned, axis=-1, keepdims=True),\n",
    "    axes=axes, title=\"Sources init (blue) and sources after aligning (orange)\");"
   ]
  },
  {
   "cell_type": "code",
   "execution_count": null,
   "metadata": {},
   "outputs": [],
   "source": [
    "# initialize A and B\n",
    "if A_B_init_permica:\n",
    "    A_init = dilations_init_c * dilation_scale\n",
    "    B_init = shifts_init_c * shift_scale\n",
    "else:\n",
    "    A_init = jnp.ones((m, p)) * dilation_scale\n",
    "    B_init = jnp.zeros((m, p))\n",
    "W_A_B_init = jnp.concatenate([jnp.ravel(W_list_init), jnp.ravel(A_init), jnp.ravel(B_init)])"
   ]
  },
  {
   "cell_type": "markdown",
   "metadata": {},
   "source": [
    "# jit"
   ]
  },
  {
   "cell_type": "code",
   "execution_count": null,
   "metadata": {},
   "outputs": [],
   "source": [
    "args = (\n",
    "    W_A_B_init,\n",
    "    X_list,\n",
    "    dilation_scale,\n",
    "    shift_scale,\n",
    "    max_shift_2,\n",
    "    max_dilation_2,\n",
    "    noise_model,\n",
    "    number_of_filters_envelop,\n",
    "    filter_length_envelop,\n",
    "    number_of_filters_squarenorm_f,\n",
    "    filter_length_squarenorm_f,\n",
    "    use_envelop_term,\n",
    "    n_concat,\n",
    ")"
   ]
  },
  {
   "cell_type": "code",
   "execution_count": null,
   "metadata": {},
   "outputs": [],
   "source": [
    "# arguments 1 and 2 have to be static because they are np.ndarray\n",
    "val_and_grad = jax.jit(jax.value_and_grad(loss), static_argnums=tuple(np.arange(3, 13)))"
   ]
  },
  {
   "cell_type": "code",
   "execution_count": null,
   "metadata": {},
   "outputs": [],
   "source": [
    "def wrapper_loss_and_grad(*args):\n",
    "    val, grad = val_and_grad(*args)\n",
    "    return val, np.array(grad)\n",
    "\n",
    "def jit_wrapper(*args):\n",
    "    print(\"Jit...\")\n",
    "    start = time()\n",
    "    wrapper_loss_and_grad(*args)\n",
    "    print(f\"Jit time : {time() - start}\")"
   ]
  },
  {
   "cell_type": "code",
   "execution_count": null,
   "metadata": {},
   "outputs": [],
   "source": [
    "jit_wrapper(*args)"
   ]
  },
  {
   "cell_type": "markdown",
   "metadata": {},
   "source": [
    "# LBFGSB"
   ]
  },
  {
   "cell_type": "code",
   "execution_count": null,
   "metadata": {},
   "outputs": [],
   "source": [
    "# bounds\n",
    "bounds_W = [(-jnp.inf, jnp.inf)] * (m * p**2)\n",
    "if dilation_scale_per_source:\n",
    "    bounds_A = [\n",
    "        (\n",
    "            1 / max_dilation_2 * dilation_scale.ravel()[i],\n",
    "            max_dilation_2 * dilation_scale.ravel()[i],\n",
    "        )\n",
    "        for i in range(m * p)\n",
    "    ]\n",
    "else:\n",
    "    bounds_A = [\n",
    "        (1 / max_dilation_2 * dilation_scale, max_dilation_2 * dilation_scale)\n",
    "    ] * (m * p)\n",
    "bounds_B = [(-max_shift_2 * shift_scale, max_shift_2 * shift_scale)] * (m * p)\n",
    "bounds_W_A_B = jnp.array(bounds_W + bounds_A + bounds_B)"
   ]
  },
  {
   "cell_type": "code",
   "execution_count": null,
   "metadata": {},
   "outputs": [],
   "source": [
    "# LBFGSB\n",
    "callback = Memory_callback(m, p, dilation_scale, shift_scale)\n",
    "\n",
    "print(\"LBFGSB...\")\n",
    "start = time()\n",
    "res = fmin_l_bfgs_b(\n",
    "    func=wrapper_loss_and_grad,\n",
    "    x0=args[0],\n",
    "    args=args[1:],\n",
    "    bounds=bounds_W_A_B,\n",
    "    disp=True,\n",
    "    factr=1e3,\n",
    "    pgtol=1e-5,\n",
    "    maxiter=3000,\n",
    "    callback=callback,\n",
    ")\n",
    "print(f\"LBFGSB time : {time() - start}\")"
   ]
  },
  {
   "cell_type": "code",
   "execution_count": null,
   "metadata": {},
   "outputs": [],
   "source": [
    "memory_W = np.array(callback.memory_W)\n",
    "memory_A = np.array(callback.memory_A)\n",
    "memory_B = np.array(callback.memory_B)\n",
    "\n",
    "W = memory_W[-1]\n",
    "A = 1 / memory_A[-1]\n",
    "B = -memory_B[-1]"
   ]
  },
  {
   "cell_type": "markdown",
   "metadata": {},
   "source": [
    "# plot dilations and shifts"
   ]
  },
  {
   "cell_type": "code",
   "execution_count": null,
   "metadata": {},
   "outputs": [],
   "source": [
    "# center time parameters\n",
    "A_c = A - np.mean(A, axis=0) + 1\n",
    "B_c = B - np.mean(B, axis=0)"
   ]
  },
  {
   "cell_type": "code",
   "execution_count": null,
   "metadata": {},
   "outputs": [],
   "source": [
    "# errors\n",
    "errors_A = np.mean((dilations_c - A_c) ** 2)\n",
    "errors_B = np.mean((shifts_c - B_c) ** 2)"
   ]
  },
  {
   "cell_type": "code",
   "execution_count": null,
   "metadata": {},
   "outputs": [],
   "source": [
    "# scatter plots of estimated shifts and dilations\n",
    "fig, axes = plt.subplots(1, 2, figsize=(9, 4))\n",
    "\n",
    "[ax.axis(\"equal\") for ax in axes]\n",
    "[ax.grid(True) for ax in axes]\n",
    "\n",
    "scatter_plot_shifts_or_dilations(\n",
    "    dilations_c,\n",
    "    A_c,\n",
    "    errors_A,\n",
    "    dilations_not_shifts=True,\n",
    "    legend=True,\n",
    "    ax=axes[0],\n",
    ")\n",
    "scatter_plot_shifts_or_dilations(\n",
    "    shifts_c,\n",
    "    B_c,\n",
    "    errors_B,\n",
    "    dilations_not_shifts=False,\n",
    "    legend=False,\n",
    "    ax=axes[1],\n",
    ")\n",
    "fig.suptitle(\n",
    "    f\"Estimated dilations and shifts (all parameters are centered and reduced)\",\n",
    "    y=1.03,\n",
    ")\n",
    "plt.show()"
   ]
  },
  {
   "cell_type": "markdown",
   "metadata": {},
   "source": [
    "# zoom on a specific source"
   ]
  },
  {
   "cell_type": "code",
   "execution_count": null,
   "metadata": {},
   "outputs": [],
   "source": [
    "source_number = 0"
   ]
  },
  {
   "cell_type": "code",
   "execution_count": null,
   "metadata": {},
   "outputs": [],
   "source": [
    "# Estimated dilations and shifts across iterations for one source\n",
    "plt.subplots(1, 2, figsize=(12, 4))\n",
    "plt.subplot(1, 2, 1)\n",
    "plot_params_across_iters(1/memory_A[:, :, source_number], dilations_not_shifts=True, legend=True)\n",
    "plt.subplot(1, 2, 2)\n",
    "plot_params_across_iters(-memory_B[:, :, source_number], dilations_not_shifts=False, legend=False)\n",
    "plt.suptitle(f\"Estimated dilations and shifts across iterations for the source {source_number}\")\n",
    "plt.tight_layout()\n",
    "plt.show()"
   ]
  },
  {
   "cell_type": "code",
   "execution_count": null,
   "metadata": {},
   "outputs": [],
   "source": [
    "S_list_lbfgsb_3d = jnp.array([jnp.dot(W_, X) for W_, X in zip(W, X_list)])\n",
    "S_list_lbfgsb_4d = jnp.moveaxis(jnp.array(jnp.split(S_list_lbfgsb_3d, n_concat, axis=-1)), source=0, destination=2)\n",
    "Y_list_lbfgsb_4d = apply_dilations_shifts(\n",
    "    S_list_lbfgsb_4d, dilations=1/A, shifts=-B, max_shift=max_shift_2, \n",
    "    max_dilation=max_dilation_2, shift_before_dilation=False)\n",
    "Y_list_lbfgsb_3d = Y_list_lbfgsb_4d.reshape((m, p, -1))"
   ]
  },
  {
   "cell_type": "code",
   "execution_count": null,
   "metadata": {},
   "outputs": [],
   "source": [
    "# plot true sources, sources after permica and sources after LBFGSB\n",
    "plot_sources_3_steps(S_list, S_list_init, Y_list_lbfgsb_3d, source_number=source_number)"
   ]
  },
  {
   "cell_type": "markdown",
   "metadata": {},
   "source": [
    "# MVICAD"
   ]
  },
  {
   "cell_type": "code",
   "execution_count": null,
   "metadata": {},
   "outputs": [],
   "source": [
    "# MVICAD max_delay=max_shift\n",
    "start = time()\n",
    "_, W_mvicad, S_mvicad, _, shifts_mvicad, _ = multiviewica_delay(\n",
    "    X_list,\n",
    "    init=W_list_init,\n",
    "    shared_delays=False,\n",
    "    max_delay=int(max_shift*n),\n",
    "    random_state=random_state,\n",
    "    continuous_delays=False,\n",
    ")\n",
    "print(f\"MVICAD (max_delay={int(max_shift*n)}) time : {time() - start}\")\n",
    "shifts_mvicad[shifts_mvicad > n // 2] -= n_concat * n\n",
    "shifts_mvicad = shifts_mvicad / n  # cannot use /= because shifts_mvicad contains integers and not floats\n",
    "shifts_mvicad_c = shifts_mvicad - np.mean(shifts_mvicad, axis=0)\n",
    "error_mvicad = np.mean((shifts_c - shifts_mvicad_c) ** 2)"
   ]
  },
  {
   "cell_type": "code",
   "execution_count": null,
   "metadata": {},
   "outputs": [],
   "source": [
    "# MVICAD max_delay=max_delay\n",
    "start = time()\n",
    "_, W_mvicad_2, S_mvicad_2, _, shifts_mvicad_2, _ = multiviewica_delay(\n",
    "    X_list,\n",
    "    init=W_list_init,\n",
    "    shared_delays=False,\n",
    "    max_delay=max_delay_samples,\n",
    "    random_state=random_state,\n",
    "    continuous_delays=False,\n",
    ")\n",
    "print(f\"MVICAD (max_delay={max_delay_samples}) time : {time() - start}\")\n",
    "shifts_mvicad_2[shifts_mvicad_2 > n // 2] -= n_concat * n\n",
    "shifts_mvicad_2 = shifts_mvicad_2 / n  # cannot use /= because shifts_mvicad_2 contains integers and not floats\n",
    "shifts_mvicad_c_2 = shifts_mvicad_2 - np.mean(shifts_mvicad_2, axis=0)\n",
    "error_mvicad_2 = np.mean((shifts_c - shifts_mvicad_c_2) ** 2)"
   ]
  },
  {
   "cell_type": "code",
   "execution_count": null,
   "metadata": {},
   "outputs": [],
   "source": [
    "# scatter plots of estimated shifts and dilations\n",
    "fig, axes = plt.subplots(1, 2, figsize=(9, 4))\n",
    "\n",
    "[ax.axis(\"equal\") for ax in axes]\n",
    "[ax.grid(True) for ax in axes]\n",
    "\n",
    "scatter_plot_shifts_or_dilations(\n",
    "    shifts_c,\n",
    "    shifts_mvicad_c,\n",
    "    error_mvicad,\n",
    "    dilations_not_shifts=False,\n",
    "    legend=True,\n",
    "    ax=axes[0],\n",
    ")\n",
    "scatter_plot_shifts_or_dilations(\n",
    "    shifts_c,\n",
    "    shifts_mvicad_c_2,\n",
    "    error_mvicad_2,\n",
    "    dilations_not_shifts=False,\n",
    "    legend=False,\n",
    "    ax=axes[1],\n",
    ")\n",
    "fig.suptitle(\n",
    "    f\"Estimated shifts for max_delay = {int(max_shift*n)} and {max_delay_samples} (all parameters are centered and reduced)\",\n",
    "    y=1.03,\n",
    ")\n",
    "plt.show()"
   ]
  },
  {
   "cell_type": "code",
   "execution_count": null,
   "metadata": {},
   "outputs": [],
   "source": [
    "amari_mvicad = np.mean([amari_distance(W, A) for W, A in zip(W_mvicad, A_list)])\n",
    "amari_mvicad_2 = np.mean([amari_distance(W, A) for W, A in zip(W_mvicad_2, A_list)])\n",
    "print(f\"Amari distance MVICAD (with max_shift = {int(max_shift*n)}) : {amari_mvicad}\")\n",
    "print(f\"Amari distance MVICAD (with max_shift = {max_delay_samples}) : {amari_mvicad_2}\")"
   ]
  },
  {
   "cell_type": "markdown",
   "metadata": {},
   "source": [
    "# plot Amari distance"
   ]
  },
  {
   "cell_type": "code",
   "execution_count": null,
   "metadata": {},
   "outputs": [],
   "source": [
    "amari_rand = 0\n",
    "n_iter_rand = 10\n",
    "for _ in range(n_iter_rand):\n",
    "    W_list_rand = rng.randn(m, p, p)\n",
    "    amari_rand += np.mean([amari_distance(W, A) for W, A in zip(W_list_rand, A_list)])\n",
    "amari_rand /= n_iter_rand\n",
    "print(f\"Amari distance random : {amari_rand}\")"
   ]
  },
  {
   "cell_type": "code",
   "execution_count": null,
   "metadata": {},
   "outputs": [],
   "source": [
    "amari_lbfgsb = [amari_init]\n",
    "for W_list in tqdm(callback.memory_W):\n",
    "    amari_lbfgsb.append(np.mean([amari_distance(W, A) for W, A in zip(W_list, A_list)]))"
   ]
  },
  {
   "cell_type": "code",
   "execution_count": null,
   "metadata": {},
   "outputs": [],
   "source": [
    "plot_amari_across_iters(amari_lbfgsb, amari_rand, amari_mvicad, amari_mvicad_2)"
   ]
  },
  {
   "cell_type": "markdown",
   "metadata": {},
   "source": [
    "# sources found by LBFGSB and MVICAD"
   ]
  },
  {
   "cell_type": "code",
   "execution_count": null,
   "metadata": {},
   "outputs": [],
   "source": [
    "S_list_mvicad_2 = np.array([np.dot(W, X) for W, X in zip(W_mvicad_2, X_list)])\n",
    "S_list_mvicad_2_4d = jnp.moveaxis(jnp.array(jnp.split(S_list_mvicad_2, n_concat, axis=-1)), source=0, destination=2)\n",
    "Y_list_mvicad_2 = apply_dilations_shifts(\n",
    "    S_list_mvicad_2_4d, dilations=np.ones((m, p)), shifts=-shifts_mvicad_2,\n",
    "    max_dilation=1., max_shift=max_delay)\n",
    "Y_list_mvicad_2 = Y_list_mvicad_2.reshape((m, p, -1))"
   ]
  },
  {
   "cell_type": "code",
   "execution_count": null,
   "metadata": {},
   "outputs": [],
   "source": [
    "S_rep = np.array([S] * m)\n",
    "min_sample = 0\n",
    "max_sample = n\n",
    "axes = plot_sources_3d(\n",
    "    S_list[:, :, min_sample:max_sample] / np.linalg.norm(S_list[:, :, min_sample:max_sample], axis=-1, keepdims=True),\n",
    "    dilations=dilations_c, shifts=shifts_c, show=False)\n",
    "plot_sources_3d(\n",
    "    S_list_lbfgsb_3d[:, :, min_sample:max_sample] / np.linalg.norm(Y_list_lbfgsb_3d[:, :, min_sample:max_sample], axis=-1, keepdims=True),\n",
    "    dilations=A_c, shifts=B_c, axes=axes, show=False)\n",
    "plot_sources_3d(\n",
    "    S_list_mvicad_2[:, :, min_sample:max_sample] / np.linalg.norm(Y_list_mvicad_2[:, :, min_sample:max_sample], axis=-1, keepdims=True),\n",
    "    dilations=np.ones((m, p)), shifts=shifts_mvicad_c_2, axes=axes,\n",
    "    title=\"True shared sources (blue), LBFGSB sources (orange) and MVICAD sources (green)\");"
   ]
  },
  {
   "cell_type": "code",
   "execution_count": null,
   "metadata": {},
   "outputs": [],
   "source": []
  }
 ],
 "metadata": {
  "interpreter": {
   "hash": "f3e1f0c92aeed84689cfea023dd5d31b12e5f0b01cf0ee4a77d80d8274095e67"
  },
  "kernelspec": {
   "display_name": "Python 3.9.7 ('base')",
   "language": "python",
   "name": "python3"
  },
  "language_info": {
   "codemirror_mode": {
    "name": "ipython",
    "version": 3
   },
   "file_extension": ".py",
   "mimetype": "text/x-python",
   "name": "python",
   "nbconvert_exporter": "python",
   "pygments_lexer": "ipython3",
   "version": "3.9.7"
  },
  "orig_nbformat": 4
 },
 "nbformat": 4,
 "nbformat_minor": 2
}
